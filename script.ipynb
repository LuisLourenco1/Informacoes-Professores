{
 "cells": [
  {
   "cell_type": "markdown",
   "metadata": {},
   "source": [
    "### Importando Bibliotecas"
   ]
  },
  {
   "cell_type": "code",
   "execution_count": 71,
   "metadata": {},
   "outputs": [],
   "source": [
    "# Processamento de dados\n",
    "import pandas as pd\n",
    "import csv\n",
    "import cv2\n",
    "\n",
    "# Visualização de dados\n",
    "import matplotlib.pyplot as plt\n",
    "import seaborn as sns\n",
    "\n",
    "# Webscraping\n",
    "from bs4 import BeautifulSoup\n",
    "import requests\n",
    "from selenium import webdriver\n",
    "from urllib.parse import urljoin\n",
    "\n",
    "# Outros\n",
    "import threading\n",
    "import easyocr\n",
    "import re\n",
    "\n",
    "import warnings\n",
    "warnings.filterwarnings('ignore')"
   ]
  },
  {
   "cell_type": "markdown",
   "metadata": {},
   "source": [
    "### Salvando todos os links em arquivo txt"
   ]
  },
  {
   "cell_type": "code",
   "execution_count": 72,
   "metadata": {},
   "outputs": [],
   "source": [
    "# Acessa o site de docentes do DC e salva todos os links da página em um arquivo txt\n",
    "url = 'https://site.dc.ufscar.br/docentes'\n",
    "\n",
    "# Configurar o webdriver do Selenium\n",
    "driver = webdriver.Chrome()  # Certifique-se de ter o ChromeDriver instalado e no PATH\n",
    "\n",
    "# Fazer uma solicitação HTTP para a URL usando o Selenium\n",
    "driver.get(url)\n",
    "\n",
    "# Obter o conteúdo da página após o carregamento dinâmico\n",
    "page_content = driver.page_source\n",
    "\n",
    "# Usar BeautifulSoup para analisar o HTML\n",
    "soup = BeautifulSoup(page_content, 'html.parser')\n",
    "\n",
    "# Encontrar todos os links na página\n",
    "links = [a['href'] for a in soup.find_all('a', href=True)]\n",
    "\n",
    "# Escrever os links em um arquivo txt\n",
    "with open('links.txt', 'w') as f:\n",
    "    for link in links:\n",
    "        f.write(\"%s\\n\" % link)\n",
    "\n",
    "# Fechar o webdriver do Selenium\n",
    "driver.quit()\n"
   ]
  },
  {
   "cell_type": "markdown",
   "metadata": {},
   "source": [
    "### Filtrando links"
   ]
  },
  {
   "cell_type": "code",
   "execution_count": 73,
   "metadata": {},
   "outputs": [
    {
     "name": "stdout",
     "output_type": "stream",
     "text": [
      "Os links foram salvos no arquivo \"docentes_links.txt\".\n"
     ]
    }
   ],
   "source": [
    "# abrir o arquivo links.txt\n",
    "with open('links.txt', 'r') as f:\n",
    "    links = f.readlines()\n",
    "\n",
    "# Filtrar os links\n",
    "docentes_links = []\n",
    "\n",
    "# se o link contém 'docente' e não contém 'docentes', adicionar à lista docentes_links\n",
    "for link in links:\n",
    "    if 'docente' in link and 'docentes' not in link:\n",
    "        docentes_links.append(link)\n",
    "\n",
    "# escrever os links filtrados em um arquivo txt\n",
    "with open('docentes_links.txt', 'w') as f:\n",
    "    for link in docentes_links:\n",
    "        f.write(\"%s\" % link)\n",
    "\n",
    "\n",
    "print(f'Os links foram salvos no arquivo \"docentes_links.txt\".')\n"
   ]
  },
  {
   "cell_type": "markdown",
   "metadata": {},
   "source": [
    "### Acesso a cada link para pegar informações"
   ]
  },
  {
   "cell_type": "code",
   "execution_count": 74,
   "metadata": {},
   "outputs": [
    {
     "name": "stdout",
     "output_type": "stream",
     "text": [
      "Os dados dos docentes foram salvos no arquivo \"docentes.csv\".\n"
     ]
    }
   ],
   "source": [
    "# Configurar o webdriver do Selenium\n",
    "driver = webdriver.Chrome()  # Certifique-se de ter o ChromeDriver instalado e no PATH\n",
    "\n",
    "# abrir o arquivo docentes_links.txt\n",
    "with open('docentes_links.txt', 'r') as txt_file:\n",
    "    docentes_links = [row.strip() for row in txt_file]\n",
    "\n",
    "url = 'https://site.dc.ufscar.br'\n",
    "\n",
    "nomesEmails = []\n",
    "\n",
    "headers = {'User-Agent': 'Mozilla/5.0 (Windows NT 10.0; Win64; x64) AppleWebKit/537.36 (KHTML, like Gecko) Chrome/58.0.3029.110 Safari/537.3'}\n",
    "\n",
    "# Escrever os dados dos docentes em um arquivo CSV\n",
    "with open('docentes.csv', 'w', newline='') as csv_file:\n",
    "    csv_writer = csv.writer(csv_file)\n",
    "    csv_writer.writerow(['Nome', 'Telefone', 'Lattes', 'Email'])  # Escrever o cabeçalho\n",
    "\n",
    "    for link in docentes_links:\n",
    "        # Fazer uma solicitação HTTP para a URL usando o Selenium\n",
    "        driver.get(url + link)\n",
    "\n",
    "        # Obter o conteúdo da página após o carregamento dinâmico\n",
    "        page_content = driver.page_source\n",
    "\n",
    "        # Usar BeautifulSoup para analisar o HTML\n",
    "        soup = BeautifulSoup(page_content, 'html.parser')\n",
    "\n",
    "        # obter o nome do docente (o nome está dentro de uma div com id \"docente-conteudo\" e dentro de uma tag h3)\n",
    "        nome = soup.find('div', id='docente-conteudo').find('h3').text\n",
    "\n",
    "        # obter o telefone do docente (o telefone está dentro de uma div com id \"docente-conteudo\" e dentro da quarta tag p dentro da div)\n",
    "        telefone = soup.find('div', id='docente-conteudo').find_all('p')[3].text\n",
    "\n",
    "        # obter o lattes do docente (o lattes está dentro de uma div com id \"docente-conteudo\" e dentro de uma tag a)\n",
    "        lattes = soup.find('div', id='docente-conteudo').find('a', href=re.compile(r'lattes')).get('href')\n",
    "\n",
    "        # obter o email do docente (o email está dentro de uma div com id \"docente-conteudo\", dentro da terceira tag p e é uma imagem)\n",
    "        email = soup.find('div', id='docente-conteudo').find_all('p')[2].find('img').get('src')\n",
    "\n",
    "        nomesEmails.append(email)\n",
    "\n",
    "        # Escrever os dados do docente no arquivo CSV\n",
    "        csv_writer.writerow([nome, telefone, lattes, ''])\n",
    "\n",
    "# Fechar o webdriver do Selenium\n",
    "driver.quit()\n",
    "\n",
    "print(f'Os dados dos docentes foram salvos no arquivo \"docentes.csv\".')"
   ]
  },
  {
   "cell_type": "markdown",
   "metadata": {},
   "source": [
    "### Limpando CSV"
   ]
  },
  {
   "cell_type": "code",
   "execution_count": 75,
   "metadata": {},
   "outputs": [
    {
     "name": "stdout",
     "output_type": "stream",
     "text": [
      "Os dados dos docentes foram salvos no arquivo \"docentes.csv\".\n"
     ]
    }
   ],
   "source": [
    "# ler o arquivo docentes.csv\n",
    "docentes = pd.read_csv('docentes.csv')\n",
    "\n",
    "# substituir o texto \"Telefone: \" por \"\" (vazio)\n",
    "docentes['Telefone'] = docentes['Telefone'].str.replace('Telefone: ', '')\n",
    "\n",
    "# salvar o arquivo docentes.csv\n",
    "docentes.to_csv('docentes.csv', index=False)\n",
    "\n",
    "print(f'Os dados dos docentes foram salvos no arquivo \"docentes.csv\".')"
   ]
  },
  {
   "cell_type": "markdown",
   "metadata": {},
   "source": [
    "### Baixando imagens"
   ]
  },
  {
   "cell_type": "code",
   "execution_count": 76,
   "metadata": {},
   "outputs": [
    {
     "name": "stdout",
     "output_type": "stream",
     "text": [
      "['https://site.dc.ufscar.br/emails/alanvalejo.png', 'https://site.dc.ufscar.br/emails/alexandre.levada.png', 'https://site.dc.ufscar.br/emails/andrebackes.png', 'https://site.dc.ufscar.br/emails/andreendo.png', 'https://site.dc.ufscar.br/emails/auri.png', 'https://site.dc.ufscar.br/emails/comin.png', 'https://site.dc.ufscar.br/emails/daniel.lucredio.png', 'https://site.dc.ufscar.br/emails/delano.png', 'https://site.dc.ufscar.br/emails/kato.png', 'https://site.dc.ufscar.br/emails/ednaldo.png', 'https://site.dc.ufscar.br/emails/emerson.png', 'https://site.dc.ufscar.br/emails/fcferrari.png', 'https://site.dc.ufscar.br/emails/fredy.png', 'https://site.dc.ufscar.br/emails/helenacaseli.png', 'https://site.dc.ufscar.br/emails/helio.png', 'https://site.dc.ufscar.br/emails/heloisa.png', 'https://site.dc.ufscar.br/emails/hermes.png', 'https://site.dc.ufscar.br/emails/jander.png', 'https://site.dc.ufscar.br/emails/joice.png', 'https://site.dc.ufscar.br/emails/vivaldini.png', 'https://site.dc.ufscar.br/emails/luciano.png', 'https://site.dc.ufscar.br/emails/marcela.png', 'https://site.dc.ufscar.br/emails/marcio.png', 'https://site.dc.ufscar.br/emails/marilde.santos.png', 'https://site.dc.ufscar.br/emails/mauricio.png', 'https://site.dc.ufscar.br/emails/murillo.png', 'https://site.dc.ufscar.br/emails/naldi.png', 'https://site.dc.ufscar.br/emails/felice.png', 'https://site.dc.ufscar.br/emails/orides.png', 'https://site.dc.ufscar.br/emails/matias.png', 'https://site.dc.ufscar.br/emails/pedrobugatti.png', 'https://site.dc.ufscar.br/emails/priscilasaito.png', 'https://site.dc.ufscar.br/emails/renato.png', 'https://site.dc.ufscar.br/emails/cerri.png', 'https://site.dc.ufscar.br/emails/rferrari.png', 'https://site.dc.ufscar.br/emails/menotti.png', 'https://site.dc.ufscar.br/emails/rrc.png', 'https://site.dc.ufscar.br/emails/ferrari.png', 'https://site.dc.ufscar.br/emails/rsinoue.png', 'https://site.dc.ufscar.br/emails/sandra.png', 'https://site.dc.ufscar.br/emails/zorzo.png', 'https://site.dc.ufscar.br/emails/valtervcamargo.png', 'https://site.dc.ufscar.br/emails/vania.png', 'https://site.dc.ufscar.br/emails/desouza.png']\n"
     ]
    }
   ],
   "source": [
    "def baixar_imagem(url):\n",
    "    resposta = requests.get(url, headers=headers)\n",
    "    nome = url.split('/')[-1]\n",
    "    destino = '/home/luis/Documentos/GitHub/Informacoes-Professores/emails/' + nome\n",
    "    with open(destino, 'wb') as f:\n",
    "        f.write(resposta.content)\n",
    "\n",
    "linksEmails = []\n",
    "\n",
    "for link in nomesEmails:\n",
    "    linksEmails.append(urljoin(url, link))\n",
    "\n",
    "threads = []\n",
    "for url in linksEmails:\n",
    "    thread = threading.Thread(target=baixar_imagem, args=(url,))\n",
    "    threads.append(thread)\n",
    "    thread.start()\n",
    "\n",
    "for thread in threads:\n",
    "    thread.join()"
   ]
  },
  {
   "cell_type": "markdown",
   "metadata": {},
   "source": [
    "### Limpando nomes emails"
   ]
  },
  {
   "cell_type": "code",
   "execution_count": 77,
   "metadata": {},
   "outputs": [
    {
     "name": "stdout",
     "output_type": "stream",
     "text": [
      "['alanvalejo', 'alexandre.levada', 'andrebackes', 'andreendo', 'auri', 'comin', 'daniel.lucredio', 'delano', 'kato', 'ednaldo', 'emerson', 'fcferrari', 'fredy', 'helenacaseli', 'helio', 'heloisa', 'hermes', 'jander', 'joice', 'vivaldini', 'luciano', 'marcela', 'marcio', 'marilde.santos', 'mauricio', 'murillo', 'naldi', 'felice', 'orides', 'matias', 'pedrobugatti', 'priscilasaito', 'renato', 'cerri', 'rferrari', 'menotti', 'rrc', 'ferrari', 'rsinoue', 'sandra', 'zorzo', 'valtervcamargo', 'vania', 'desouza']\n"
     ]
    }
   ],
   "source": [
    "# no array nomesEmails, remova a string /emails/ e a extensão .png de cada elemento\n",
    "nomesEmails = [re.sub(r'\\/emails\\/|\\.png', '', nomeEmail) for nomeEmail in nomesEmails]\n",
    "\n",
    "print(nomesEmails)"
   ]
  },
  {
   "cell_type": "markdown",
   "metadata": {},
   "source": [
    "### Utilizando ML para verificar o nome dos emails nas imagens"
   ]
  },
  {
   "cell_type": "code",
   "execution_count": 78,
   "metadata": {},
   "outputs": [
    {
     "name": "stderr",
     "output_type": "stream",
     "text": [
      "Neither CUDA nor MPS are available - defaulting to CPU. Note: This module is much faster with a GPU.\n"
     ]
    },
    {
     "name": "stdout",
     "output_type": "stream",
     "text": [
      "['alanvalejo.png', 'alexandre.levada.png', 'andrebackes.png', 'andreendo.png', 'auri.png', 'comin.png', 'daniel.lucredio.png', 'delano.png', 'kato.png', 'ednaldo.png', 'emerson.png', 'fcferrari.png', 'fredy.png', 'helenacaseli.png', 'helio.png', 'heloisa.png', 'hermes.png', 'jander.png', 'joice.png', 'vivaldini.png', 'luciano.png', 'marcela.png', 'marcio.png', 'marilde.santos.png', 'mauricio.png', 'murillo.png', 'naldi.png', 'felice.png', 'orides.png', 'matias.png', 'pedrobugatti.png', 'priscilasaito.png', 'renato.png', 'cerri.png', 'rferrari.png', 'menotti.png', 'rrc.png', 'ferrari.png', 'rsinoue.png', 'sandra.png', 'zorzo.png', 'valtervcamargo.png', 'vania.png', 'desouza.png']\n"
     ]
    },
    {
     "name": "stderr",
     "output_type": "stream",
     "text": [
      "Neither CUDA nor MPS are available - defaulting to CPU. Note: This module is much faster with a GPU.\n",
      "Neither CUDA nor MPS are available - defaulting to CPU. Note: This module is much faster with a GPU.\n",
      "Neither CUDA nor MPS are available - defaulting to CPU. Note: This module is much faster with a GPU.\n",
      "Neither CUDA nor MPS are available - defaulting to CPU. Note: This module is much faster with a GPU.\n",
      "Neither CUDA nor MPS are available - defaulting to CPU. Note: This module is much faster with a GPU.\n",
      "Neither CUDA nor MPS are available - defaulting to CPU. Note: This module is much faster with a GPU.\n",
      "Neither CUDA nor MPS are available - defaulting to CPU. Note: This module is much faster with a GPU.\n",
      "Neither CUDA nor MPS are available - defaulting to CPU. Note: This module is much faster with a GPU.\n",
      "Neither CUDA nor MPS are available - defaulting to CPU. Note: This module is much faster with a GPU.\n",
      "Neither CUDA nor MPS are available - defaulting to CPU. Note: This module is much faster with a GPU.\n",
      "Neither CUDA nor MPS are available - defaulting to CPU. Note: This module is much faster with a GPU.\n",
      "Neither CUDA nor MPS are available - defaulting to CPU. Note: This module is much faster with a GPU.\n",
      "Neither CUDA nor MPS are available - defaulting to CPU. Note: This module is much faster with a GPU.\n",
      "Neither CUDA nor MPS are available - defaulting to CPU. Note: This module is much faster with a GPU.\n",
      "Neither CUDA nor MPS are available - defaulting to CPU. Note: This module is much faster with a GPU.\n",
      "Neither CUDA nor MPS are available - defaulting to CPU. Note: This module is much faster with a GPU.\n",
      "Neither CUDA nor MPS are available - defaulting to CPU. Note: This module is much faster with a GPU.\n",
      "Neither CUDA nor MPS are available - defaulting to CPU. Note: This module is much faster with a GPU.\n",
      "Neither CUDA nor MPS are available - defaulting to CPU. Note: This module is much faster with a GPU.\n",
      "Neither CUDA nor MPS are available - defaulting to CPU. Note: This module is much faster with a GPU.\n",
      "Neither CUDA nor MPS are available - defaulting to CPU. Note: This module is much faster with a GPU.\n",
      "Neither CUDA nor MPS are available - defaulting to CPU. Note: This module is much faster with a GPU.\n",
      "Neither CUDA nor MPS are available - defaulting to CPU. Note: This module is much faster with a GPU.\n",
      "Neither CUDA nor MPS are available - defaulting to CPU. Note: This module is much faster with a GPU.\n",
      "Neither CUDA nor MPS are available - defaulting to CPU. Note: This module is much faster with a GPU.\n",
      "Neither CUDA nor MPS are available - defaulting to CPU. Note: This module is much faster with a GPU.\n",
      "Neither CUDA nor MPS are available - defaulting to CPU. Note: This module is much faster with a GPU.\n",
      "Neither CUDA nor MPS are available - defaulting to CPU. Note: This module is much faster with a GPU.\n",
      "Neither CUDA nor MPS are available - defaulting to CPU. Note: This module is much faster with a GPU.\n",
      "Neither CUDA nor MPS are available - defaulting to CPU. Note: This module is much faster with a GPU.\n",
      "Neither CUDA nor MPS are available - defaulting to CPU. Note: This module is much faster with a GPU.\n",
      "Neither CUDA nor MPS are available - defaulting to CPU. Note: This module is much faster with a GPU.\n",
      "Neither CUDA nor MPS are available - defaulting to CPU. Note: This module is much faster with a GPU.\n",
      "Neither CUDA nor MPS are available - defaulting to CPU. Note: This module is much faster with a GPU.\n",
      "Neither CUDA nor MPS are available - defaulting to CPU. Note: This module is much faster with a GPU.\n",
      "Neither CUDA nor MPS are available - defaulting to CPU. Note: This module is much faster with a GPU.\n",
      "Neither CUDA nor MPS are available - defaulting to CPU. Note: This module is much faster with a GPU.\n",
      "Neither CUDA nor MPS are available - defaulting to CPU. Note: This module is much faster with a GPU.\n",
      "Neither CUDA nor MPS are available - defaulting to CPU. Note: This module is much faster with a GPU.\n",
      "Neither CUDA nor MPS are available - defaulting to CPU. Note: This module is much faster with a GPU.\n",
      "Neither CUDA nor MPS are available - defaulting to CPU. Note: This module is much faster with a GPU.\n",
      "Neither CUDA nor MPS are available - defaulting to CPU. Note: This module is much faster with a GPU.\n",
      "Neither CUDA nor MPS are available - defaulting to CPU. Note: This module is much faster with a GPU.\n"
     ]
    }
   ],
   "source": [
    "# pegue todas imagens da pasta emails, converta para escala de cinza, obtenha o texto da imagem e armazene na coluna Email do arquivo docentes.csv\n",
    "# ler o arquivo docentes.csv\n",
    "docentes = pd.read_csv('docentes.csv')\n",
    "\n",
    "# criar uma lista com os nomes dos arquivos\n",
    "nomes = []\n",
    "\n",
    "for nome in nomesEmails:\n",
    "    nomes.append(nome + '.png')\n",
    "\n",
    "# criar uma lista com os emails dos arquivos\n",
    "emails = []\n",
    "\n",
    "for nome in nomes:\n",
    "    reader = easyocr.Reader(['en'])\n",
    "\n",
    "    # Carregar a imagem\n",
    "    imagem = cv2.imread('/home/luis/Documentos/GitHub/Informacoes-Professores/emails/' + nome)\n",
    "\n",
    "    # Converter para escala de cinza\n",
    "    gray = cv2.cvtColor(imagem, cv2.COLOR_BGR2GRAY)\n",
    "\n",
    "    result = reader.readtext(gray)\n",
    "\n",
    "    for detection in result:\n",
    "        texto = detection[1]\n",
    "\n",
    "    emails.append(texto)\n",
    "\n"
   ]
  },
  {
   "cell_type": "markdown",
   "metadata": {},
   "source": [
    "### Formatando emails"
   ]
  },
  {
   "cell_type": "markdown",
   "metadata": {},
   "source": [
    "Como o modelo de Machine Learning não é exatamente preciso, ele pode cometer erros. Então, já que nós já temos os nomes dos emails (parte antes do @) por conta do 'src' das imagens, basta verificar se a quantidade de caracteres após o @ será mais que 9 (len('ufscar.br') == 9). Isso porque o modelo pode trocar caracteres, mas é extremamente difícil ele omitir caracteres. Se a quantidade for maior que 9, significa que após o @ será dc.ufscar.br, senão, será ufscar.br"
   ]
  },
  {
   "cell_type": "code",
   "execution_count": 79,
   "metadata": {},
   "outputs": [
    {
     "name": "stdout",
     "output_type": "stream",
     "text": [
      "Os emails dos docentes foram salvos no arquivo \"docentes.csv\".\n"
     ]
    }
   ],
   "source": [
    "# no array emails, conte quantos caracteres tem após o caractere @ em cada elemento\n",
    "# se o número de caracteres for maior que 9, a variável ufscar  = False, senão, ufscar = True\n",
    "ufscar = []\n",
    "\n",
    "for email in emails:\n",
    "    if len(email[email.find('@') + 1:]) > 9:\n",
    "        ufscar.append(False)\n",
    "    else:\n",
    "        ufscar.append(True)\n",
    "\n",
    "for i in range(len(emails)):\n",
    "    if ufscar[i]:\n",
    "        ufscar[i] = nomesEmails[i] + '@ufscar.br'\n",
    "    else:\n",
    "        ufscar[i] = nomesEmails[i] + '@dc.ufscar.br'\n",
    "\n",
    "# substituir a coluna Email do arquivo docentes.csv pela lista ufscar\n",
    "docentes['Email'] = ufscar\n",
    "\n",
    "# salvar o arquivo docentes.csv\n",
    "docentes.to_csv('docentes.csv', index=False)\n",
    "\n",
    "print(f'Os emails dos docentes foram salvos no arquivo \"docentes.csv\".')\n"
   ]
  }
 ],
 "metadata": {
  "kernelspec": {
   "display_name": "Python 3",
   "language": "python",
   "name": "python3"
  },
  "language_info": {
   "codemirror_mode": {
    "name": "ipython",
    "version": 3
   },
   "file_extension": ".py",
   "mimetype": "text/x-python",
   "name": "python",
   "nbconvert_exporter": "python",
   "pygments_lexer": "ipython3",
   "version": "3.10.12"
  }
 },
 "nbformat": 4,
 "nbformat_minor": 2
}
