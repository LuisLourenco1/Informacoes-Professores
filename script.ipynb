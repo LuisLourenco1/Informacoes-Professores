{
 "cells": [
  {
   "cell_type": "markdown",
   "metadata": {},
   "source": [
    "### Importando Bibliotecas"
   ]
  },
  {
   "cell_type": "code",
   "execution_count": 1,
   "metadata": {},
   "outputs": [],
   "source": [
    "# Processamento de dados\n",
    "import pandas as pd\n",
    "import csv\n",
    "import cv2\n",
    "\n",
    "# Visualização de dados\n",
    "import matplotlib.pyplot as plt\n",
    "import seaborn as sns\n",
    "\n",
    "# Webscraping\n",
    "from bs4 import BeautifulSoup\n",
    "import requests\n",
    "from selenium import webdriver\n",
    "from urllib.parse import urljoin\n",
    "\n",
    "# Outros\n",
    "import threading\n",
    "import easyocr\n",
    "import re\n",
    "import datetime\n",
    "\n",
    "import warnings\n",
    "warnings.filterwarnings('ignore')"
   ]
  },
  {
   "cell_type": "markdown",
   "metadata": {},
   "source": [
    "### Salvando todos os links em arquivo txt"
   ]
  },
  {
   "cell_type": "code",
   "execution_count": 2,
   "metadata": {},
   "outputs": [],
   "source": [
    "# Acessa o site de docentes do DC e salva todos os links da página em um arquivo txt\n",
    "url = 'https://site.dc.ufscar.br/docentes'\n",
    "\n",
    "# Configurar o webdriver do Selenium\n",
    "driver = webdriver.Chrome()  # Certifique-se de ter o ChromeDriver instalado e no PATH\n",
    "\n",
    "# Fazer uma solicitação HTTP para a URL usando o Selenium\n",
    "driver.get(url)\n",
    "\n",
    "# Obter o conteúdo da página após o carregamento dinâmico\n",
    "page_content = driver.page_source\n",
    "\n",
    "# Usar BeautifulSoup para analisar o HTML\n",
    "soup = BeautifulSoup(page_content, 'html.parser')\n",
    "\n",
    "# Encontrar todos os links na página\n",
    "links = [a['href'] for a in soup.find_all('a', href=True)]\n",
    "\n",
    "# Escrever os links em um arquivo txt\n",
    "with open('links.txt', 'w') as f:\n",
    "    for link in links:\n",
    "        f.write(\"%s\\n\" % link)\n",
    "\n",
    "# Fechar o webdriver do Selenium\n",
    "driver.quit()\n"
   ]
  },
  {
   "cell_type": "markdown",
   "metadata": {},
   "source": [
    "### Filtrando links"
   ]
  },
  {
   "cell_type": "code",
   "execution_count": 3,
   "metadata": {},
   "outputs": [
    {
     "name": "stdout",
     "output_type": "stream",
     "text": [
      "Os links foram salvos no arquivo \"docentes_links.txt\".\n"
     ]
    }
   ],
   "source": [
    "# abrir o arquivo links.txt\n",
    "with open('links.txt', 'r') as f:\n",
    "    links = f.readlines()\n",
    "\n",
    "# Filtrar os links\n",
    "docentes_links = []\n",
    "\n",
    "# se o link contém 'docente' e não contém 'docentes', adicionar à lista docentes_links\n",
    "for link in links:\n",
    "    if 'docente' in link and 'docentes' not in link:\n",
    "        docentes_links.append(link)\n",
    "\n",
    "# escrever os links filtrados em um arquivo txt\n",
    "with open('docentes_links.txt', 'w') as f:\n",
    "    for link in docentes_links:\n",
    "        f.write(\"%s\" % link)\n",
    "\n",
    "\n",
    "print(f'Os links foram salvos no arquivo \"docentes_links.txt\".')\n"
   ]
  },
  {
   "cell_type": "markdown",
   "metadata": {},
   "source": [
    "### Acesso a cada link para pegar informações"
   ]
  },
  {
   "cell_type": "code",
   "execution_count": 4,
   "metadata": {},
   "outputs": [
    {
     "name": "stdout",
     "output_type": "stream",
     "text": [
      "Os dados dos docentes foram salvos no arquivo \"docentes.csv\".\n"
     ]
    }
   ],
   "source": [
    "# Configurar o webdriver do Selenium\n",
    "driver = webdriver.Chrome()  # Certifique-se de ter o ChromeDriver instalado e no PATH\n",
    "\n",
    "# abrir o arquivo docentes_links.txt\n",
    "with open('docentes_links.txt', 'r') as txt_file:\n",
    "    docentes_links = [row.strip() for row in txt_file]\n",
    "\n",
    "url = 'https://site.dc.ufscar.br'\n",
    "\n",
    "nomesEmails = []\n",
    "\n",
    "headers = {'User-Agent': 'Mozilla/5.0 (Windows NT 10.0; Win64; x64) AppleWebKit/537.36 (KHTML, like Gecko) Chrome/58.0.3029.110 Safari/537.3'}\n",
    "\n",
    "# Escrever os dados dos docentes em um arquivo CSV\n",
    "with open('docentes.csv', 'w', newline='') as csv_file:\n",
    "    csv_writer = csv.writer(csv_file)\n",
    "    csv_writer.writerow(['Nome', 'Telefone', 'Lattes', 'Email'])  # Escrever o cabeçalho\n",
    "\n",
    "    for link in docentes_links:\n",
    "        # Fazer uma solicitação HTTP para a URL usando o Selenium\n",
    "        driver.get(url + link)\n",
    "\n",
    "        # Obter o conteúdo da página após o carregamento dinâmico\n",
    "        page_content = driver.page_source\n",
    "\n",
    "        # Usar BeautifulSoup para analisar o HTML\n",
    "        soup = BeautifulSoup(page_content, 'html.parser')\n",
    "\n",
    "        # obter o nome do docente (o nome está dentro de uma div com id \"docente-conteudo\" e dentro de uma tag h3)\n",
    "        nome = soup.find('div', id='docente-conteudo').find('h3').text\n",
    "\n",
    "        # obter o telefone do docente (o telefone está dentro de uma div com id \"docente-conteudo\" e dentro da quarta tag p dentro da div)\n",
    "        telefone = soup.find('div', id='docente-conteudo').find_all('p')[3].text\n",
    "\n",
    "        # obter o lattes do docente (o lattes está dentro de uma div com id \"docente-conteudo\" e dentro de uma tag a)\n",
    "        lattes = soup.find('div', id='docente-conteudo').find('a', href=re.compile(r'lattes')).get('href')\n",
    "\n",
    "        # obter o email do docente (o email está dentro de uma div com id \"docente-conteudo\", dentro da terceira tag p e é uma imagem)\n",
    "        email = soup.find('div', id='docente-conteudo').find_all('p')[2].find('img').get('src')\n",
    "\n",
    "        nomesEmails.append(email)\n",
    "\n",
    "        # Escrever os dados do docente no arquivo CSV\n",
    "        csv_writer.writerow([nome, telefone, lattes, ''])\n",
    "\n",
    "# Fechar o webdriver do Selenium\n",
    "driver.quit()\n",
    "\n",
    "print(f'Os dados dos docentes foram salvos no arquivo \"docentes.csv\".')"
   ]
  },
  {
   "cell_type": "markdown",
   "metadata": {},
   "source": [
    "### Limpando CSV"
   ]
  },
  {
   "cell_type": "code",
   "execution_count": 5,
   "metadata": {},
   "outputs": [
    {
     "name": "stdout",
     "output_type": "stream",
     "text": [
      "Os dados dos docentes foram salvos no arquivo \"docentes.csv\".\n"
     ]
    }
   ],
   "source": [
    "# ler o arquivo docentes.csv\n",
    "docentes = pd.read_csv('docentes.csv')\n",
    "\n",
    "# substituir o texto \"Telefone: \" por \"\" (vazio)\n",
    "docentes['Telefone'] = docentes['Telefone'].str.replace('Telefone: ', '')\n",
    "\n",
    "# salvar o arquivo docentes.csv\n",
    "docentes.to_csv('docentes.csv', index=False)\n",
    "\n",
    "print(f'Os dados dos docentes foram salvos no arquivo \"docentes.csv\".')"
   ]
  },
  {
   "cell_type": "markdown",
   "metadata": {},
   "source": [
    "### Baixando imagens"
   ]
  },
  {
   "cell_type": "code",
   "execution_count": 6,
   "metadata": {},
   "outputs": [],
   "source": [
    "# baixa imagens de forma paralela utilizando threads\n",
    "def baixar_imagem(url):\n",
    "    resposta = requests.get(url, headers=headers)\n",
    "    nome = url.split('/')[-1]\n",
    "    destino = '/home/luis/Documentos/GitHub/Informacoes-Professores/emails/' + nome\n",
    "    with open(destino, 'wb') as f:\n",
    "        f.write(resposta.content)\n",
    "\n",
    "linksEmails = []\n",
    "\n",
    "for link in nomesEmails:\n",
    "    linksEmails.append(urljoin(url, link))\n",
    "\n",
    "threads = []\n",
    "for url in linksEmails:\n",
    "    thread = threading.Thread(target=baixar_imagem, args=(url,))\n",
    "    threads.append(thread)\n",
    "    thread.start()\n",
    "\n",
    "for thread in threads:\n",
    "    thread.join()"
   ]
  },
  {
   "cell_type": "markdown",
   "metadata": {},
   "source": [
    "### Limpando nomes emails"
   ]
  },
  {
   "cell_type": "code",
   "execution_count": 7,
   "metadata": {},
   "outputs": [
    {
     "name": "stdout",
     "output_type": "stream",
     "text": [
      "['alanvalejo', 'alexandre.levada', 'andrebackes', 'andreendo', 'auri', 'comin', 'daniel.lucredio', 'delano', 'kato', 'ednaldo', 'emerson', 'fcferrari', 'fredy', 'helenacaseli', 'helio', 'heloisa', 'hermes', 'jander', 'joice', 'vivaldini', 'luciano', 'marcela', 'marcio', 'marilde.santos', 'mauricio', 'murillo', 'naldi', 'felice', 'orides', 'matias', 'pedrobugatti', 'priscilasaito', 'renato', 'cerri', 'rferrari', 'menotti', 'rrc', 'ferrari', 'rsinoue', 'sandra', 'zorzo', 'valtervcamargo', 'vania', 'desouza']\n"
     ]
    }
   ],
   "source": [
    "# no array nomesEmails, remova a string /emails/ e a extensão .png de cada elemento\n",
    "nomesEmails = [re.sub(r'\\/emails\\/|\\.png', '', nomeEmail) for nomeEmail in nomesEmails]\n",
    "\n",
    "print(nomesEmails)"
   ]
  },
  {
   "cell_type": "markdown",
   "metadata": {},
   "source": [
    "### Utilizando ML para verificar o nome dos emails nas imagens"
   ]
  },
  {
   "cell_type": "code",
   "execution_count": 8,
   "metadata": {},
   "outputs": [
    {
     "name": "stderr",
     "output_type": "stream",
     "text": [
      "Neither CUDA nor MPS are available - defaulting to CPU. Note: This module is much faster with a GPU.\n",
      "Neither CUDA nor MPS are available - defaulting to CPU. Note: This module is much faster with a GPU.\n",
      "Neither CUDA nor MPS are available - defaulting to CPU. Note: This module is much faster with a GPU.\n",
      "Neither CUDA nor MPS are available - defaulting to CPU. Note: This module is much faster with a GPU.\n",
      "Neither CUDA nor MPS are available - defaulting to CPU. Note: This module is much faster with a GPU.\n",
      "Neither CUDA nor MPS are available - defaulting to CPU. Note: This module is much faster with a GPU.\n",
      "Neither CUDA nor MPS are available - defaulting to CPU. Note: This module is much faster with a GPU.\n",
      "Neither CUDA nor MPS are available - defaulting to CPU. Note: This module is much faster with a GPU.\n",
      "Neither CUDA nor MPS are available - defaulting to CPU. Note: This module is much faster with a GPU.\n",
      "Neither CUDA nor MPS are available - defaulting to CPU. Note: This module is much faster with a GPU.\n",
      "Neither CUDA nor MPS are available - defaulting to CPU. Note: This module is much faster with a GPU.\n",
      "Neither CUDA nor MPS are available - defaulting to CPU. Note: This module is much faster with a GPU.\n",
      "Neither CUDA nor MPS are available - defaulting to CPU. Note: This module is much faster with a GPU.\n",
      "Neither CUDA nor MPS are available - defaulting to CPU. Note: This module is much faster with a GPU.\n",
      "Neither CUDA nor MPS are available - defaulting to CPU. Note: This module is much faster with a GPU.\n",
      "Neither CUDA nor MPS are available - defaulting to CPU. Note: This module is much faster with a GPU.\n",
      "Neither CUDA nor MPS are available - defaulting to CPU. Note: This module is much faster with a GPU.\n",
      "Neither CUDA nor MPS are available - defaulting to CPU. Note: This module is much faster with a GPU.\n",
      "Neither CUDA nor MPS are available - defaulting to CPU. Note: This module is much faster with a GPU.\n",
      "Neither CUDA nor MPS are available - defaulting to CPU. Note: This module is much faster with a GPU.\n",
      "Neither CUDA nor MPS are available - defaulting to CPU. Note: This module is much faster with a GPU.\n",
      "Neither CUDA nor MPS are available - defaulting to CPU. Note: This module is much faster with a GPU.\n",
      "Neither CUDA nor MPS are available - defaulting to CPU. Note: This module is much faster with a GPU.\n",
      "Neither CUDA nor MPS are available - defaulting to CPU. Note: This module is much faster with a GPU.\n",
      "Neither CUDA nor MPS are available - defaulting to CPU. Note: This module is much faster with a GPU.\n",
      "Neither CUDA nor MPS are available - defaulting to CPU. Note: This module is much faster with a GPU.\n",
      "Neither CUDA nor MPS are available - defaulting to CPU. Note: This module is much faster with a GPU.\n",
      "Neither CUDA nor MPS are available - defaulting to CPU. Note: This module is much faster with a GPU.\n",
      "Neither CUDA nor MPS are available - defaulting to CPU. Note: This module is much faster with a GPU.\n",
      "Neither CUDA nor MPS are available - defaulting to CPU. Note: This module is much faster with a GPU.\n",
      "Neither CUDA nor MPS are available - defaulting to CPU. Note: This module is much faster with a GPU.\n",
      "Neither CUDA nor MPS are available - defaulting to CPU. Note: This module is much faster with a GPU.\n",
      "Neither CUDA nor MPS are available - defaulting to CPU. Note: This module is much faster with a GPU.\n",
      "Neither CUDA nor MPS are available - defaulting to CPU. Note: This module is much faster with a GPU.\n",
      "Neither CUDA nor MPS are available - defaulting to CPU. Note: This module is much faster with a GPU.\n",
      "Neither CUDA nor MPS are available - defaulting to CPU. Note: This module is much faster with a GPU.\n",
      "Neither CUDA nor MPS are available - defaulting to CPU. Note: This module is much faster with a GPU.\n",
      "Neither CUDA nor MPS are available - defaulting to CPU. Note: This module is much faster with a GPU.\n",
      "Neither CUDA nor MPS are available - defaulting to CPU. Note: This module is much faster with a GPU.\n",
      "Neither CUDA nor MPS are available - defaulting to CPU. Note: This module is much faster with a GPU.\n",
      "Neither CUDA nor MPS are available - defaulting to CPU. Note: This module is much faster with a GPU.\n",
      "Neither CUDA nor MPS are available - defaulting to CPU. Note: This module is much faster with a GPU.\n",
      "Neither CUDA nor MPS are available - defaulting to CPU. Note: This module is much faster with a GPU.\n",
      "Neither CUDA nor MPS are available - defaulting to CPU. Note: This module is much faster with a GPU.\n"
     ]
    }
   ],
   "source": [
    "# pegue todas imagens da pasta emails, converta para escala de cinza, obtenha o texto da imagem e armazene na coluna Email do arquivo docentes.csv\n",
    "# ler o arquivo docentes.csv\n",
    "docentes = pd.read_csv('docentes.csv')\n",
    "\n",
    "# criar uma lista com os nomes dos arquivos\n",
    "nomes = []\n",
    "\n",
    "for nome in nomesEmails:\n",
    "    nomes.append(nome + '.png')\n",
    "\n",
    "# criar uma lista com os emails dos arquivos\n",
    "emails = []\n",
    "\n",
    "for nome in nomes:\n",
    "    reader = easyocr.Reader(['en'])\n",
    "\n",
    "    # Carregar a imagem\n",
    "    imagem = cv2.imread('/home/luis/Documentos/GitHub/Informacoes-Professores/emails/' + nome)\n",
    "\n",
    "    # Converter para escala de cinza\n",
    "    gray = cv2.cvtColor(imagem, cv2.COLOR_BGR2GRAY)\n",
    "\n",
    "    # Obter o texto da imagem\n",
    "    result = reader.readtext(gray)\n",
    "\n",
    "    for detection in result:\n",
    "        texto = detection[1]\n",
    "\n",
    "    emails.append(texto)"
   ]
  },
  {
   "cell_type": "markdown",
   "metadata": {},
   "source": [
    "### Formatando emails"
   ]
  },
  {
   "cell_type": "markdown",
   "metadata": {},
   "source": [
    "Como o modelo de Machine Learning não é exatamente preciso, ele pode cometer erros. Então, já que nós já temos os nomes dos emails (parte antes do @) por conta do 'src' das imagens, basta verificar se a quantidade de caracteres após o @ será mais que 9 (len('ufscar.br') == 9). Isso porque o modelo pode trocar caracteres, mas é extremamente difícil ele omitir caracteres. Se a quantidade for maior que 9, significa que após o @ será dc.ufscar.br, senão, será ufscar.br"
   ]
  },
  {
   "cell_type": "code",
   "execution_count": 9,
   "metadata": {},
   "outputs": [
    {
     "name": "stdout",
     "output_type": "stream",
     "text": [
      "Os emails dos docentes foram salvos no arquivo \"docentes.csv\".\n"
     ]
    }
   ],
   "source": [
    "# criar uma lista com os emails da UFSCar\n",
    "ufscar = []\n",
    "\n",
    "# se o email tiver mais de 9 caracteres após o @, o email é da UFSCar, senão é do DC\n",
    "for email in emails:\n",
    "    if len(email[email.find('@') + 1:]) > 9:\n",
    "        ufscar.append(False)\n",
    "    else:\n",
    "        ufscar.append(True)\n",
    "\n",
    "# criar uma lista com os emails completos\n",
    "for i in range(len(emails)):\n",
    "    if ufscar[i]:\n",
    "        ufscar[i] = nomesEmails[i] + '@ufscar.br'\n",
    "    else:\n",
    "        ufscar[i] = nomesEmails[i] + '@dc.ufscar.br'\n",
    "\n",
    "# substituir a coluna Email do arquivo docentes.csv pela lista ufscar\n",
    "docentes['Email'] = ufscar\n",
    "\n",
    "# salvar o arquivo docentes.csv\n",
    "docentes.to_csv('docentes.csv', index=False)\n",
    "\n",
    "print(f'Os emails dos docentes foram salvos no arquivo \"docentes.csv\".')\n"
   ]
  },
  {
   "cell_type": "markdown",
   "metadata": {},
   "source": [
    "### Consultando no Portal da Transparência o salário dos docentes"
   ]
  },
  {
   "cell_type": "code",
   "execution_count": 10,
   "metadata": {},
   "outputs": [
    {
     "name": "stdout",
     "output_type": "stream",
     "text": [
      "As remunerações dos docentes foram salvas no arquivo \"docentes.csv\".\n"
     ]
    }
   ],
   "source": [
    "# ler o arquivo docentes.csv\n",
    "docentes = pd.read_csv('docentes.csv')\n",
    "\n",
    "# criar colunas para armazenar as remunerações bruta e líquida\n",
    "docentes['RemuneracaoBasicaBruta'] = ''\n",
    "docentes['RemuneracaoBasicaLiquida'] = ''\n",
    "\n",
    "# criar uma lista com os nomes dos arquivos\n",
    "remuneracaoBruta = []\n",
    "remuneracaoLiquida = []\n",
    "\n",
    "# para conseguir acessar a API, é necessário ter uma chave de acesso\n",
    "# para obter a chave de acesso, é necessário vincular a conta gov.br ao Portal da Transparência\n",
    "# para vincular a conta, acesse o link https://portaldatransparencia.gov.br/api-de-dados/cadastrar-email\n",
    "# após vincular a conta, copie a chave de acesso e cole no lugar de \"cole-sua-chave-aqui\"\n",
    "headers = {\"chave-api-dados\":\"cole-sua-chave-aqui\"}\n",
    "\n",
    "ano = str(datetime.datetime.now().year)\n",
    "mes = str(datetime.datetime.now().month - 2)\n",
    "if len(mes) == 1:\n",
    "    mes = '0' + mes\n",
    "mesAno = ano + mes\n",
    "\n",
    "path1 = 'remuneracoesDTO'\n",
    "path2 = 'remuneracaoBasicaBruta'\n",
    "path3 = 'valorTotalRemuneracaoAposDeducoes'\n",
    "\n",
    "for nome in docentes['Nome']:\n",
    "    # retire os acentos\n",
    "    nome = nome.replace('á', 'a')\n",
    "    nome = nome.replace('à', 'a')\n",
    "    nome = nome.replace('ã', 'a')\n",
    "    nome = nome.replace('â', 'a')\n",
    "    nome = nome.replace('é', 'e')\n",
    "    nome = nome.replace('ê', 'e')\n",
    "    nome = nome.replace('í', 'i')\n",
    "    nome = nome.replace('ó', 'o')\n",
    "    nome = nome.replace('ô', 'o')\n",
    "    nome = nome.replace('õ', 'o')\n",
    "    nome = nome.replace('ú', 'u')\n",
    "    nome = nome.replace('ü', 'u')\n",
    "    nome = nome.replace('ç', 'c')\n",
    "\n",
    "    # substitua os espaços por %20\n",
    "    nome = nome.replace(' ', '%20')\n",
    "\n",
    "    # url da API com o nome do docente\n",
    "    url = 'https://api.portaldatransparencia.gov.br/api-de-dados/servidores?tipoServidor=1&situacaoServidor=1&nome=' + nome + '&orgaoServidorExercicio=26280&pagina=1'\n",
    "    resultado = requests.get(url, headers=headers)\n",
    "    resultadoJson = resultado.json()\n",
    "\n",
    "    # obter o id do servidor\n",
    "    idServidor = str(resultadoJson[0]['servidor']['idServidorAposentadoPensionista'])\n",
    "\n",
    "    # url da API com o id do servidor\n",
    "    url2 = 'https://api.portaldatransparencia.gov.br/api-de-dados/servidores/remuneracao?id='+idServidor+'&mesAno='+mesAno+'&pagina=1'\n",
    "    resultado2 = requests.get(url2, headers=headers)\n",
    "    resultadoJson2 = resultado2.json()\n",
    "\n",
    "    # obter a remuneração bruta e líquida\n",
    "    remuneracaoBruta.append(resultadoJson2[0][path1][0][path2])\n",
    "    remuneracaoLiquida.append(resultadoJson2[0][path1][0][path3])\n",
    "\n",
    "docentes['RemuneracaoBasicaBruta'] = remuneracaoBruta\n",
    "docentes['RemuneracaoBasicaLiquida'] = remuneracaoLiquida\n",
    "\n",
    "docentes.to_csv('docentes.csv', index=False)\n",
    "\n",
    "print(f'As remunerações dos docentes foram salvas no arquivo \"docentes.csv\".')"
   ]
  },
  {
   "cell_type": "code",
   "execution_count": null,
   "metadata": {},
   "outputs": [],
   "source": []
  }
 ],
 "metadata": {
  "kernelspec": {
   "display_name": "Python 3",
   "language": "python",
   "name": "python3"
  },
  "language_info": {
   "codemirror_mode": {
    "name": "ipython",
    "version": 3
   },
   "file_extension": ".py",
   "mimetype": "text/x-python",
   "name": "python",
   "nbconvert_exporter": "python",
   "pygments_lexer": "ipython3",
   "version": "3.10.12"
  }
 },
 "nbformat": 4,
 "nbformat_minor": 2
}
